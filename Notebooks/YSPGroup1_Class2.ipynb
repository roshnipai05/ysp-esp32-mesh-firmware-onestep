{
  "nbformat": 4,
  "nbformat_minor": 0,
  "metadata": {
    "colab": {
      "provenance": []
    },
    "kernelspec": {
      "name": "python3",
      "display_name": "Python 3"
    },
    "language_info": {
      "name": "python"
    }
  },
  "cells": [
    {
      "cell_type": "markdown",
      "source": [
        "#The Business of You : Targeted Travel Ads\n",
        "Goal: Use user data to guess their dream trip and send customized (or manipulative?) ads!\n"
      ],
      "metadata": {
        "id": "oXA0w4KhBr6Y"
      }
    },
    {
      "cell_type": "markdown",
      "source": [
        "#Q1: Basic Name Access\n",
        "\n",
        "`usernames = [\"priya_2006\", \"aditya_2004\", \"karan_2005\"]`\n",
        "\n",
        "**Task:**\n",
        "Access and print the first and last usernames in the list.\n",
        "\n",
        "What age group do you think they belong to?"
      ],
      "metadata": {
        "id": "J8n8HQFGnd1M"
      }
    },
    {
      "cell_type": "code",
      "source": [],
      "metadata": {
        "id": "ivifQta35mVG"
      },
      "execution_count": null,
      "outputs": []
    },
    {
      "cell_type": "markdown",
      "source": [
        "#Q2: Pick Their Next Destination\n",
        "\n",
        "`wishlist = [\"Paris\", \"Bali\", \"Spiti\", \"Santorini\", \"Manali\"]`\n",
        "\n",
        "**Task:**\n",
        "Print the third and fifth places on their wishlist.\n",
        "\n",
        "Which of these destinations might be best for a “romantic getaway” ad?"
      ],
      "metadata": {
        "id": "wjirXBUVo7tE"
      }
    },
    {
      "cell_type": "code",
      "source": [],
      "metadata": {
        "id": "J8QASlxspI3h"
      },
      "execution_count": null,
      "outputs": []
    },
    {
      "cell_type": "markdown",
      "source": [
        "#Q3: Secret Clues from a Bio\n",
        "\n",
        "`bio = \"Dreaming of cold nights, warm lights, and European trains.\"`\n",
        "\n",
        "**Task:**\n",
        "Use slicing to extract:\n",
        "\n",
        "\"cold nights\"\n",
        "\n",
        "\"European trains\"\n",
        "\n",
        "What kind of trip would you target them with?"
      ],
      "metadata": {
        "id": "-M8f5FvepJ45"
      }
    },
    {
      "cell_type": "code",
      "source": [],
      "metadata": {
        "id": "5u67n0WVpQu-"
      },
      "execution_count": null,
      "outputs": []
    },
    {
      "cell_type": "markdown",
      "source": [
        "#Q4: What Are They Searching?\n",
        "\n",
        "`searches = [\"how to pack light\", \"best trekking shoes\", \"travel insurance\", \"budget hostels\"]`\n",
        "\n",
        "**Task:**\n",
        "Print the second and fourth search queries.\n",
        "\n",
        "What kind of travel ad fits someone doing these searches?"
      ],
      "metadata": {
        "id": "8N3Gz3gipRPv"
      }
    },
    {
      "cell_type": "code",
      "source": [],
      "metadata": {
        "id": "MEQHTcb_pbyx"
      },
      "execution_count": null,
      "outputs": []
    },
    {
      "cell_type": "markdown",
      "source": [
        "#Q5: Stalk Their Conversation\n",
        "\n",
        "`dm = \"Bro, Ladakh this summer?? I’m already looking at motorbikes 😭\"`\n",
        "\n",
        "**Task:**\n",
        "Extract the destination from the message using slicing: \"Ladakh\"\n",
        "\n",
        "Would you offer them ads for bike rentals or flight deals?"
      ],
      "metadata": {
        "id": "N9TQMD1wpcOD"
      }
    },
    {
      "cell_type": "code",
      "source": [
        "dm= \"Bro, Ladakh this summer?? I’m already looking at motorbikes 😭\"\n",
        "present= dm.find(\"Ladakh\")\n",
        "if isinstance (present, int): # if present at all in the conversation\n",
        "  print(\"bike rentals and flight deals to Ladakh\")"
      ],
      "metadata": {
        "id": "6dQ5gSnmphEv",
        "colab": {
          "base_uri": "https://localhost:8080/"
        },
        "outputId": "824089ca-a554-4ffd-cad7-f40d6a7a901e"
      },
      "execution_count": 9,
      "outputs": [
        {
          "output_type": "stream",
          "name": "stdout",
          "text": [
            "bike rentals and flight deals to Ladakh\n"
          ]
        }
      ]
    },
    {
      "cell_type": "markdown",
      "source": [
        "#Q6: Slice a Destination\n",
        "\n",
        "`place = \"Reykjavik\"`\n",
        "\n",
        "**Task:**\n",
        "\n",
        "Print the first 4 characters.\n",
        "\n",
        "Print the last 3 characters.\n",
        "\n",
        "Do you recognize the country from the name?"
      ],
      "metadata": {
        "id": "vf3UkiIQphxW"
      }
    },
    {
      "cell_type": "code",
      "source": [],
      "metadata": {
        "id": "qO0o53AXptB3"
      },
      "execution_count": null,
      "outputs": []
    },
    {
      "cell_type": "markdown",
      "source": [
        "#Q7: What Are They Into?\n",
        "\n",
        "`interests = [\"trekking\", \"surfing\", \"skiing\", \"nightlife\"]`\n",
        "\n",
        "**Task:**\n",
        "Access the second and third interests from the list.\n",
        "\n",
        "Suggest a matching destination for each.\n",
        "\n"
      ],
      "metadata": {
        "id": "_p39G6JYptYE"
      }
    },
    {
      "cell_type": "code",
      "source": [
        "interests=[\"trekking\", \"surfing\", \"skiing\", \"nightlife\"]\n",
        "\n",
        "interests[1]\n",
        "print(interests[2])"
      ],
      "metadata": {
        "id": "SriLtqKUp0K6",
        "colab": {
          "base_uri": "https://localhost:8080/"
        },
        "outputId": "4ff4ef19-8cb0-4b3d-c802-eb80eb75e0e4"
      },
      "execution_count": 5,
      "outputs": [
        {
          "output_type": "stream",
          "name": "stdout",
          "text": [
            "surfing\n",
            "skiing\n"
          ]
        }
      ]
    },
    {
      "cell_type": "markdown",
      "source": [
        "#Q8: Subtle Hints in the Username\n",
        "\n",
        "`username = \"anuj_bali2005\"`\n",
        "\n",
        "**Task:**\n",
        "\n",
        "Extract \"bali\" from the string using slicing.\n",
        "\n",
        "Extract \"2005\" from the string using slicing.\n",
        "\n",
        "What might this username tell you?"
      ],
      "metadata": {
        "id": "Msw7vc2Hp4lM"
      }
    },
    {
      "cell_type": "code",
      "source": [
        "username =\"anuj_bali2005\"\n",
        "username.find('bali')\n",
        "bali =username[5:9]\n",
        "\n",
        "username.find('2005')\n",
        "year = username[9 : (9+ len('2005'))]\n",
        "\n",
        "\n",
        "#Tells us that the user is possibly from Bali and was born in 2005."
      ],
      "metadata": {
        "colab": {
          "base_uri": "https://localhost:8080/",
          "height": 36
        },
        "id": "gNBM9c2_6r-y",
        "outputId": "3ec075d4-dd3e-495c-dec8-927e26531084"
      },
      "execution_count": 4,
      "outputs": [
        {
          "output_type": "execute_result",
          "data": {
            "text/plain": [
              "'2005'"
            ],
            "application/vnd.google.colaboratory.intrinsic+json": {
              "type": "string"
            }
          },
          "metadata": {},
          "execution_count": 4
        }
      ]
    }
  ]
}